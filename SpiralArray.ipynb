{
 "cells": [
  {
   "cell_type": "code",
   "execution_count": 193,
   "metadata": {
    "collapsed": true
   },
   "outputs": [],
   "source": [
    "def move_right(x_cursor, y_cursor):\n",
    "    for x in range(x_cursor['min'], x_cursor['max']):\n",
    "        yield (x, y_cursor['cursor'])\n",
    "        x_cursor['cursor'] = x\n",
    "\n",
    "def move_left(x_cursor, y_cursor):\n",
    "    positions = [x for x in range(x_cursor['min'], x_cursor['max'])]\n",
    "    for x in reversed(positions):\n",
    "        yield (x, y_cursor['cursor'])\n",
    "        x_cursor['cursor'] = x\n",
    "\n",
    "def move_down(x_cursor, y_cursor):    \n",
    "    for y in range(y_cursor['min'], y_cursor['max']):\n",
    "        yield (x_cursor['cursor'], y)\n",
    "        y_cursor['cursor'] = y\n",
    "    \n",
    "def move_up(x_cursor, y_cursor):   \n",
    "    positions = [y for y in range(y_cursor['min'],y_cursor['max'])]\n",
    "    for y in reversed(positions):\n",
    "        yield (x_cursor['cursor'], y)\n",
    "        y_cursor['cursor'] = y\n"
   ]
  },
  {
   "cell_type": "code",
   "execution_count": 197,
   "metadata": {
    "collapsed": true
   },
   "outputs": [],
   "source": [
    "def move_with_cursor(array, x_cursor, y_cursor):\n",
    "    positions = []\n",
    "    answer = []\n",
    "    \n",
    "    positions.extend([n for n in move_right(x_cursor, y_cursor) if n not in positions])\n",
    "    y_cursor['min'] += 1\n",
    "    positions.extend([n for n in move_down(x_cursor, y_cursor) if n not in positions])\n",
    "    x_cursor['max'] -= 1\n",
    "    positions.extend([n for n in move_left(x_cursor, y_cursor) if n not in positions])\n",
    "    y_cursor['max'] -= 1\n",
    "    x_cursor['min'] += 1  \n",
    "    positions.extend([n for n in move_up(x_cursor, y_cursor) if n not in positions])\n",
    "    \n",
    "    x_cursor['min'] = keep_value_inbound(x_cursor['min'], x_cursor['max'])\n",
    "    y_cursor['min'] = keep_value_inbound(y_cursor['min'], y_cursor['max'])\n",
    "    \n",
    "    return [ array[n[1]][n[0]] for n in positions]\n",
    "\n",
    "def keep_value_inbound(value, max):\n",
    "    if value < 0:\n",
    "        value = 0\n",
    "    elif value > max:\n",
    "        value = max\n",
    "    return value\n",
    "\n",
    "def move(array):\n",
    "    x_cursor = {\n",
    "        'cursor': 0,\n",
    "        'min': 0,\n",
    "        'max': len(array[0])\n",
    "    }\n",
    "    y_cursor = {\n",
    "        'cursor': 0,\n",
    "        'min': 0,\n",
    "        'max': len(array) \n",
    "    }\n",
    "    \n",
    "    answer = []\n",
    "    while(x_cursor['min'] != x_cursor['max'] and y_cursor['min'] != y_cursor['max']):\n",
    "        answer.extend(move_with_cursor(array, x_cursor, y_cursor))\n",
    "\n",
    "    return answer"
   ]
  },
  {
   "cell_type": "code",
   "execution_count": 198,
   "metadata": {},
   "outputs": [],
   "source": [
    "examples = [\n",
    "    (\n",
    "        [[1,2,3],\n",
    "         [4,5,6],\n",
    "         [7,8,9]\n",
    "        ],\n",
    "        [1,2,3,6,9,8,7,4,5]\n",
    "    ),\n",
    "    (\n",
    "        [[1,2,3,4],\n",
    "         [5,6,7,8],\n",
    "         [9,10,11,12]\n",
    "        ],\n",
    "        [1,2,3,4,8,12,11,10,9,5,6,7]\n",
    "    ),\n",
    "    (\n",
    "        [[1,2,3,4,5,6,7],\n",
    "         [8,9,10,11,12,13,14]\n",
    "        ],\n",
    "        [1,2,3,4,5,6,7,14,13,12,11,10,9,8]\n",
    "    ),\n",
    "    \n",
    "    (\n",
    "        [[1],\n",
    "         [2],\n",
    "         [3]\n",
    "        ],\n",
    "        [1,2,3]\n",
    "    )\n",
    "]\n"
   ]
  },
  {
   "cell_type": "code",
   "execution_count": 199,
   "metadata": {},
   "outputs": [
    {
     "data": {
      "text/plain": [
       "[True, True, True, True]"
      ]
     },
     "execution_count": 199,
     "metadata": {},
     "output_type": "execute_result"
    }
   ],
   "source": [
    "[move(x[0]) == x[1] for x in examples]"
   ]
  },
  {
   "cell_type": "code",
   "execution_count": null,
   "metadata": {
    "collapsed": true
   },
   "outputs": [],
   "source": []
  }
 ],
 "metadata": {
  "kernelspec": {
   "display_name": "Python 3",
   "language": "python",
   "name": "python3"
  },
  "language_info": {
   "codemirror_mode": {
    "name": "ipython",
    "version": 3
   },
   "file_extension": ".py",
   "mimetype": "text/x-python",
   "name": "python",
   "nbconvert_exporter": "python",
   "pygments_lexer": "ipython3",
   "version": "3.6.1"
  }
 },
 "nbformat": 4,
 "nbformat_minor": 2
}
