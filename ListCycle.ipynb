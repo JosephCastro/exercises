{
 "cells": [
  {
   "cell_type": "code",
   "execution_count": 12,
   "metadata": {
    "collapsed": true
   },
   "outputs": [],
   "source": [
    "def add_position(index, positions):\n",
    "    if index in positions:\n",
    "        return False\n",
    "    positions.append(index)\n",
    "    return True\n",
    "    \n",
    "def has_cicles_in_position(array, start_position):\n",
    "    positions = []\n",
    "    \n",
    "    try:\n",
    "        while add_position(start_position, positions):\n",
    "            start_position = array[start_position]\n",
    "    except IndexError:\n",
    "        return False\n",
    "    return True\n",
    "\n",
    "def has_cicles(array):\n",
    "    answer = [has_cicles_in_position(array, x) for x in range(0,len(array))]\n",
    "    return any(answer)"
   ]
  },
  {
   "cell_type": "code",
   "execution_count": 13,
   "metadata": {
    "collapsed": true
   },
   "outputs": [],
   "source": [
    "examples = [\n",
    "    ([3,0,4,8,7], False),\n",
    "    ([3,0,1,2,9], True),\n",
    "    ([9,0], False),\n",
    "    ([9,2,1], True)\n",
    "]"
   ]
  },
  {
   "cell_type": "code",
   "execution_count": 14,
   "metadata": {},
   "outputs": [
    {
     "data": {
      "text/plain": [
       "[True, True, True, True]"
      ]
     },
     "execution_count": 14,
     "metadata": {},
     "output_type": "execute_result"
    }
   ],
   "source": [
    "[has_cicles(x[0]) == x[1] for x in examples]"
   ]
  },
  {
   "cell_type": "code",
   "execution_count": null,
   "metadata": {
    "collapsed": true
   },
   "outputs": [],
   "source": []
  }
 ],
 "metadata": {
  "kernelspec": {
   "display_name": "Python 3",
   "language": "python",
   "name": "python3"
  },
  "language_info": {
   "codemirror_mode": {
    "name": "ipython",
    "version": 3
   },
   "file_extension": ".py",
   "mimetype": "text/x-python",
   "name": "python",
   "nbconvert_exporter": "python",
   "pygments_lexer": "ipython3",
   "version": "3.6.1"
  }
 },
 "nbformat": 4,
 "nbformat_minor": 2
}
